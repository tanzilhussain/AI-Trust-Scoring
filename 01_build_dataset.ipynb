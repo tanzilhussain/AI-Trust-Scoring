{
 "cells": [
  {
   "cell_type": "code",
   "execution_count": null,
   "id": "ba9e960c",
   "metadata": {},
   "outputs": [
    {
     "name": "stdout",
     "output_type": "stream",
     "text": [
      "ready to collect\n"
     ]
    }
   ],
   "source": [
    "import json\n",
    "from pathlib import Path\n",
    "\n",
    "output_file = Path(\"../data/advice_dataset.jsonl\")\n",
    "output_file.parent.mkdir(exist_ok=True, parents=True)\n",
    "print(\"ready to collect\")"
   ]
  },
  {
   "cell_type": "code",
   "execution_count": 10,
   "id": "9100d661",
   "metadata": {},
   "outputs": [
    {
     "name": "stdout",
     "output_type": "stream",
     "text": [
      "entry saved\n"
     ]
    }
   ],
   "source": [
    "\n",
    "entry = {\n",
    "    \"question\": \"hi\",\n",
    "    \"human_advice\": \"Try setting a consistent sleep schedule, journaling, and talking to a friend when things feel overwhelming.\",\n",
    "    \"ai_advice\": \"Managing stress involves using good time management, regular exercise, and mindfulness techniques.\",\n",
    "    \"ai_model\": \"Claude\"  # or \"Perplexity\", \"ChatGPT\", etc.\n",
    "}\n",
    "with output_file.open(\"a\") as f:\n",
    "    f.write(json.dumps(entry) + \"\\n\")\n",
    "print(\"entry saved\")"
   ]
  },
  {
   "cell_type": "code",
   "execution_count": 11,
   "id": "4786d58d",
   "metadata": {},
   "outputs": [
    {
     "name": "stdout",
     "output_type": "stream",
     "text": [
      "{'question': 'hi', 'human_advice': 'Try setting a consistent sleep schedule, journaling, and talking to a friend when things feel overwhelming.', 'ai_advice': 'Managing stress involves using good time management, regular exercise, and mindfulness techniques.', 'ai_model': 'Claude'} \n",
      "\n"
     ]
    }
   ],
   "source": [
    "with output_file.open(\"r\") as f:\n",
    "    for i, line in enumerate(f):\n",
    "        if i >= 3: break\n",
    "        print(json.loads(line), \"\\n\")\n"
   ]
  }
 ],
 "metadata": {
  "kernelspec": {
   "display_name": "Python 3",
   "language": "python",
   "name": "python3"
  },
  "language_info": {
   "codemirror_mode": {
    "name": "ipython",
    "version": 3
   },
   "file_extension": ".py",
   "mimetype": "text/x-python",
   "name": "python",
   "nbconvert_exporter": "python",
   "pygments_lexer": "ipython3",
   "version": "3.13.4"
  }
 },
 "nbformat": 4,
 "nbformat_minor": 5
}
