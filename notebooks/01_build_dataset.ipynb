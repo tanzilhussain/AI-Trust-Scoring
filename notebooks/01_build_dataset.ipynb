{
 "cells": [
  {
   "cell_type": "code",
   "execution_count": null,
   "id": "faec9b7a",
   "metadata": {},
   "outputs": [],
   "source": [
    "import pandas as pd\n",
    "import json\n",
    "from pathlib import Path"
   ]
  },
  {
   "cell_type": "code",
   "execution_count": 11,
   "id": "dc5746d0",
   "metadata": {},
   "outputs": [],
   "source": [
    "csv_path = Path(\"data/dear_abby.csv\")\n",
    "df = pd.read_csv(csv_path)\n",
    "\n",
    "sample_df = df.sample(5)"
   ]
  },
  {
   "cell_type": "code",
   "execution_count": 12,
   "id": "55a83c54",
   "metadata": {},
   "outputs": [],
   "source": [
    "entries = []\n",
    "\n",
    "for _, row in sample_df.iterrows():\n",
    "    entry = {\n",
    "        \"question\": row[\"question_only\"],\n",
    "        \"ai_advice\": None,\n",
    "        \"ai_model\": None,\n",
    "        \"trust_score\": None,\n",
    "        \"meta\": {\n",
    "            \"year\": int(row[\"year\"]),\n",
    "            \"month\": int(row[\"month\"]),\n",
    "            \"day\": int(row[\"day\"]),\n",
    "            \"title\": row[\"title\"],\n",
    "            \"url\": row[\"url\"]\n",
    "        }\n",
    "    }\n",
    "    entries.append(entry)"
   ]
  },
  {
   "cell_type": "code",
   "execution_count": 19,
   "id": "1c57404f",
   "metadata": {},
   "outputs": [],
   "source": [
    "output_path = Path(\"data/dear_abby_scored.jsonl\")\n",
    "\n",
    "with output_path.open(\"a\") as f:\n",
    "    for entry in entries:\n",
    "        json.dump(entry, f)\n",
    "        f.write(str(json.dump(entry, f)) + \"\\n\")"
   ]
  }
 ],
 "metadata": {
  "kernelspec": {
   "display_name": "Python 3",
   "language": "python",
   "name": "python3"
  },
  "language_info": {
   "codemirror_mode": {
    "name": "ipython",
    "version": 3
   },
   "file_extension": ".py",
   "mimetype": "text/x-python",
   "name": "python",
   "nbconvert_exporter": "python",
   "pygments_lexer": "ipython3",
   "version": "3.13.4"
  }
 },
 "nbformat": 4,
 "nbformat_minor": 5
}
